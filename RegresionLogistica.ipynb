{
 "cells": [
  {
   "cell_type": "markdown",
   "metadata": {},
   "source": [
    "# Entrenamiento con regresión logística\n"
   ]
  },
  {
   "cell_type": "code",
   "execution_count": 69,
   "metadata": {},
   "outputs": [],
   "source": [
    "import os\n",
    "import numpy as np\n",
    "import matplotlib.pyplot as plt\n",
    "import matplotlib.image as mpimg\n",
    "import pandas as pd\n",
    "import cv2 #pip install opencv-python\n",
    "import itertools\n",
    "from sklearn.metrics import confusion_matrix, f1_score\n",
    "from scipy.optimize import minimize\n",
    "import librosa                    \n",
    "import librosa.display\n",
    "from sklearn.preprocessing import normalize\n",
    "from sklearn.model_selection import train_test_split\n",
    "from sklearn.metrics import confusion_matrix, f1_score\n",
    "from sklearn.preprocessing import StandardScaler\n",
    "from scipy.stats import kurtosis\n",
    "from scipy.stats import skew"
   ]
  },
  {
   "cell_type": "code",
   "execution_count": 70,
   "metadata": {},
   "outputs": [
    {
     "name": "stdout",
     "output_type": "stream",
     "text": [
      "{'blues': 0, 'classical': 1, 'country': 2, 'disco': 3, 'hiphop': 4, 'jazz': 5, 'metal': 6, 'pop': 7, 'reggae': 8, 'rock': 9}\n"
     ]
    }
   ],
   "source": [
    "IMG = './data/images_original/'\n",
    "#IMG = './dataset/'\n",
    "img_dataset = []\n",
    "genre_target = []\n",
    "genres = {}\n",
    "i = 0\n",
    "for root, dirs, files in os.walk(IMG):\n",
    "    for name in files:\n",
    "        filename = os.path.join(root, name)\n",
    "        img_dataset.append(filename)\n",
    "        genre = filename.split('\\\\')[0].split('/')[-1]\n",
    "        genre_target.append(genre)\n",
    "        \n",
    "        if(genre not in genres):\n",
    "            genres[genre] = i\n",
    "            i+=1\n",
    "print(genres)"
   ]
  },
  {
   "cell_type": "markdown",
   "metadata": {},
   "source": [
    "### Usando el código de las prácticas"
   ]
  },
  {
   "cell_type": "code",
   "execution_count": 71,
   "metadata": {},
   "outputs": [],
   "source": [
    "def crop_borders(img,x1=35,x2=252,y1=54,y2=389):\n",
    "    cropped = img[x1:x2,y1:y2]\n",
    "    return cropped"
   ]
  },
  {
   "cell_type": "code",
   "execution_count": 72,
   "metadata": {},
   "outputs": [],
   "source": [
    "def get_y():\n",
    "    '''Convierte los generos en un array de targets y'''\n",
    "    y = []\n",
    "    for genre in genre_target:\n",
    "        n = genres[genre]\n",
    "        y.append(n)\n",
    "    return np.array(y)\n",
    "\n",
    "def get_x(shape=[999,217*335], flag=0):\n",
    "    x = np.empty(shape, np.uint8)\n",
    "    for i in range(len(img_dataset)):\n",
    "        img = cv2.imread(img_dataset[i],flag)\n",
    "        img = crop_borders(img)\n",
    "        x[i] = img.ravel()\n",
    "    return np.array(x)"
   ]
  },
  {
   "cell_type": "code",
   "execution_count": 126,
   "metadata": {},
   "outputs": [
    {
     "data": {
      "text/plain": [
       "(999, 72695)"
      ]
     },
     "execution_count": 126,
     "metadata": {},
     "output_type": "execute_result"
    }
   ],
   "source": [
    "X = get_x()\n",
    "y = get_y()\n",
    "y = y.reshape(len(y),1)\n",
    "X.shape"
   ]
  },
  {
   "cell_type": "code",
   "execution_count": 127,
   "metadata": {},
   "outputs": [
    {
     "name": "stdout",
     "output_type": "stream",
     "text": [
      "(999, 72695) (999, 1)\n"
     ]
    }
   ],
   "source": [
    "print(X.shape, y.shape)"
   ]
  },
  {
   "cell_type": "code",
   "execution_count": 75,
   "metadata": {},
   "outputs": [
    {
     "name": "stdout",
     "output_type": "stream",
     "text": [
      "(999, 72696) (749, 72696) (250, 72696)\n"
     ]
    }
   ],
   "source": [
    "y = y.T[0]\n",
    "num_examples = np.shape(X)[0] #999 imagenes\n",
    "num_features = np.shape(X)[1] #72695 atributos por cada imagen\n",
    "num_etiquetas = 10 # hay 10 generos\n",
    "\n",
    "# añadimos una columna de 1's a la X\n",
    "X = np.hstack([np.ones([num_examples, 1]), X])\n",
    "X\n",
    "\n",
    "X_train, X_test, y_train, y_test = train_test_split(X, y, stratify=y)\n",
    "\n",
    "print(X.shape, X_train.shape, X_test.shape)"
   ]
  },
  {
   "cell_type": "code",
   "execution_count": 76,
   "metadata": {},
   "outputs": [],
   "source": [
    "#funciones sigmoide, coste y gradiente de regresion logistica\n",
    "def sigmoid(x):\n",
    "    return 1 / (1 + np.exp(-x))\n",
    "\n",
    "def cost(Theta, X, Y, Lambda):\n",
    "    epsilon = 1e-5   #para evitar errores del tipo \"RuntimeWarning: divide by zero encountered in log import sys\" le sumamos un epsilon cercano a cero para que nunca calcule el log de (0)\n",
    "    H = sigmoid(np.matmul(X, Theta))\n",
    "    aux = (-1 / len(X)) * ( np.matmul(np.log(H+epsilon).T, Y) + np.matmul(np.log(1-H+epsilon).T, (1-Y)))\n",
    "    regul = (Lambda/(2*len(X))) * np.sum(Theta**2)\n",
    "    return (aux + regul)\n",
    "\n",
    "def gradient(Theta, X, Y, Lambda):\n",
    "    H = sigmoid(np.matmul(X, Theta))\n",
    "    aux = np.matmul(X.T, H - Y) / len(X)\n",
    "    regul = (Lambda/len(X)) * Theta\n",
    "    return (aux + regul)"
   ]
  },
  {
   "cell_type": "code",
   "execution_count": 77,
   "metadata": {},
   "outputs": [],
   "source": [
    "import scipy.optimize as opt\n",
    "def oneVsAll(X, y, num_etiquetas, reg):\n",
    "    \"\"\"\n",
    "    oneVsAll entrena varios clasificadores por regresión logística con término\n",
    "    de regularización 'reg' y devuelve el resultado en una matriz, donde la \n",
    "    fila i-ésima corresponde al clasificador de la etiqueta i-ésima\n",
    "    \"\"\"\n",
    "    # Creamos una matriz de 'num_etiquetas' clasificadores con 'num_features + 1' atributos cada uno\n",
    "    classifiers = np.zeros(shape=(num_etiquetas, num_features + 1))\n",
    "    \n",
    "    # entrenamos un clasificador por cada una de las clases del conjunto de datos\n",
    "    for i in range(num_etiquetas):\n",
    "        # Necesitamos un valor de theta por cada atributo\n",
    "        theta = np.zeros(num_features + 1)\n",
    "        \n",
    "        # Dividimos nuestras clases en dos conjuntos, la clase que queremos predecir (y == i) y el resto (y != i)\n",
    "        label = (y == i) * 1\n",
    "\n",
    "        # Entrenamos al clasificador\n",
    "        result = opt.fmin_tnc(func=cost, x0=theta, fprime=gradient, args=(X, label, reg))\n",
    "        classifiers[i, :] = result[0]\n",
    "        \n",
    "    return classifiers"
   ]
  },
  {
   "cell_type": "code",
   "execution_count": 78,
   "metadata": {},
   "outputs": [],
   "source": [
    "regul_param = 0.1\n",
    "classifiers = oneVsAll(X_train, y_train, num_etiquetas, regul_param)"
   ]
  },
  {
   "cell_type": "code",
   "execution_count": 79,
   "metadata": {},
   "outputs": [],
   "source": [
    "probabilities = sigmoid(np.matmul(X_test, classifiers.T))\n",
    "# Nos quedamos con el indice (la clase) que tenga la probabilidad más alta\n",
    "predictions = np.argmax(probabilities, axis=1)"
   ]
  },
  {
   "cell_type": "code",
   "execution_count": 80,
   "metadata": {},
   "outputs": [
    {
     "name": "stdout",
     "output_type": "stream",
     "text": [
      "Numero de test:  250\n",
      "Numero de fallos: 128\n",
      "Numero de aciertos: 122\n",
      "Porcentaje de aciertos:  48.8\n"
     ]
    }
   ],
   "source": [
    "print(\"Numero de test: \", len(y_test))\n",
    "fallos =  np.where([predictions != y_test])[1]\n",
    "print('Numero de fallos:', len(fallos))\n",
    "\n",
    "aciertos = np.where([predictions == y_test])[1]\n",
    "print('Numero de aciertos:', len(aciertos))\n",
    "\n",
    "accuracy = 100 * np.mean(predictions == y_test)\n",
    "print(\"Porcentaje de aciertos: \", accuracy)"
   ]
  },
  {
   "cell_type": "code",
   "execution_count": 81,
   "metadata": {},
   "outputs": [],
   "source": [
    "genres_pred = {}\n",
    "for k,v in genres.items():\n",
    "    genres_pred[v] = k"
   ]
  },
  {
   "cell_type": "code",
   "execution_count": 82,
   "metadata": {},
   "outputs": [
    {
     "name": "stdout",
     "output_type": "stream",
     "text": [
      "rock :: classical\n",
      "rock :: pop\n",
      "blues :: pop\n",
      "classical :: country\n",
      "rock :: reggae\n",
      "classical :: pop\n",
      "reggae :: pop\n",
      "reggae :: metal\n",
      "country :: blues\n",
      "rock :: disco\n"
     ]
    }
   ],
   "source": [
    "sample = fallos[np.random.choice(fallos.shape[0], 10)]\n",
    "for a in sample:\n",
    "    print(genres_pred[predictions[a]],\"::\" ,genres_pred[y_test[a]])"
   ]
  },
  {
   "cell_type": "code",
   "execution_count": 83,
   "metadata": {},
   "outputs": [],
   "source": [
    "cm = confusion_matrix(y_test, predictions)\n",
    "classes = ['metal', 'disco', 'classical', 'hiphop', 'jazz', 'country', 'pop', 'blues', 'reggae', 'rock']"
   ]
  },
  {
   "cell_type": "code",
   "execution_count": 84,
   "metadata": {},
   "outputs": [
    {
     "data": {
      "image/png": "[encoded data removed]",
      "text/plain": [
       "<Figure size 720x720 with 2 Axes>"
      ]
     },
     "metadata": {
      "needs_background": "light"
     },
     "output_type": "display_data"
    }
   ],
   "source": [
    "# Helper to plot confusion matrix -- from Scikit-learn website\n",
    "def plot_confusion_matrix(cm, classes,\n",
    "                          normalize=False,\n",
    "                          title='Confusion matrix',\n",
    "                          cmap=plt.cm.Blues):\n",
    "    \"\"\"\n",
    "    This function prints and plots the confusion matrix.\n",
    "    Normalization can be applied by setting `normalize=True`.\n",
    "    \"\"\"\n",
    "    if normalize:\n",
    "        cm = cm.astype('float') / cm.sum(axis=1)[:, np.newaxis]\n",
    "\n",
    "    fig = plt.imshow(cm, interpolation='nearest', cmap=cmap)\n",
    "    plt.title(title)\n",
    "    plt.colorbar()\n",
    "    tick_marks = np.arange(len(genres))\n",
    "    plt.xticks(tick_marks, genres, rotation=45)\n",
    "    #plt.yticks(tick_marks, genres)\n",
    "\n",
    "    fmt = '.2f' if normalize else 'd'\n",
    "    thresh = cm.max() / 2.\n",
    "    for i, j in itertools.product(range(cm.shape[0]), range(cm.shape[1])):\n",
    "        plt.text(j, i, format(cm[i, j], fmt),\n",
    "                 horizontalalignment=\"center\",\n",
    "                 color=\"white\" if cm[i, j] > thresh else \"black\")\n",
    "\n",
    "    plt.ylabel('True label')\n",
    "    plt.xlabel('Predicted label')\n",
    "    plt.show()\n",
    "    \n",
    "plt.figure(figsize=(10,10))\n",
    "plot_confusion_matrix(cm, classes, normalize=True)"
   ]
  },
  {
   "cell_type": "markdown",
   "metadata": {},
   "source": [
    "### Canciones fuera del dataset"
   ]
  },
  {
   "cell_type": "code",
   "execution_count": 85,
   "metadata": {},
   "outputs": [
    {
     "name": "stdout",
     "output_type": "stream",
     "text": [
      "./test_songs/images/abba.png\n",
      "rock\n",
      "./test_songs/images/abba_BnW.png\n",
      "rock\n",
      "./test_songs/images/abba_no_cut.png\n",
      "pop\n",
      "./test_songs/images/desakato.png\n",
      "pop\n",
      "./test_songs/images/desakato_BnW.png\n",
      "pop\n",
      "./test_songs/images/desakato_no_cut.png\n",
      "metal\n",
      "./test_songs/images/elfinde.png\n",
      "pop\n",
      "./test_songs/images/elfinde_BnW.png\n",
      "pop\n",
      "./test_songs/images/elfinde_no_cut.png\n",
      "pop\n",
      "./test_songs/images/harder.png\n",
      "hiphop\n",
      "./test_songs/images/harder_BnW.png\n",
      "hiphop\n",
      "./test_songs/images/iseo.png\n",
      "pop\n",
      "./test_songs/images/iseo_BnW.png\n",
      "pop\n",
      "./test_songs/images/iseo_no_cut.png\n",
      "metal\n",
      "./test_songs/images/marley.png\n",
      "pop\n",
      "./test_songs/images/marley_BnW.png\n",
      "pop\n",
      "./test_songs/images/marley_no_cut.png\n",
      "pop\n",
      "./test_songs/images/metallica.png\n",
      "metal\n",
      "./test_songs/images/metallica_BnW.png\n",
      "metal\n",
      "./test_songs/images/metallica_no_cut.png\n",
      "metal\n",
      "./test_songs/images/paradise.png\n",
      "pop\n",
      "./test_songs/images/paradise_BnW.png\n",
      "pop\n",
      "./test_songs/images/paradise_no_cut.png\n",
      "pop\n",
      "./test_songs/images/requiem.png\n",
      "classical\n",
      "./test_songs/images/requiem_BnW.png\n",
      "classical\n",
      "./test_songs/images/requiem_no_cut.png\n",
      "disco\n",
      "./test_songs/images/sultans.png\n",
      "country\n",
      "./test_songs/images/sultans_BnW.png\n",
      "country\n",
      "./test_songs/images/sultans_no_cut.png\n",
      "pop\n",
      "./test_songs/images/wutang.png\n",
      "hiphop\n",
      "./test_songs/images/wutang_BnW.png\n",
      "hiphop\n",
      "./test_songs/images/wutang_no_cut.png\n",
      "metal\n"
     ]
    }
   ],
   "source": [
    "files = os.listdir('./test_songs/images/')\n",
    "# songs = [ img for img in files if img.split('.')[-1] == 'png']\n",
    "songs = ['./test_songs/images/'+img for img in files if img.split('.')[-1] == 'png']\n",
    "\n",
    "for song in songs:\n",
    "    img = cv2.imread(song,0)\n",
    "    #img = crop_borders(img)\n",
    "    #img = crop_borders(img,x1=50,x2=252,y1=144,y2=244)\n",
    "    #img = extract_features(song)\n",
    "    mel = img.ravel()\n",
    "    mel = np.hstack([1, mel])\n",
    "#     pred = logreg2.predict(mel.reshape(1, -1))\n",
    "    probabilities = sigmoid(np.matmul(mel.reshape(1,-1), classifiers.T))\n",
    "    # Nos quedamos con el indice (la clase) que tenga la probabilidad más alta\n",
    "    pred = np.argmax(probabilities, axis=1)\n",
    "    print(song)\n",
    "    print(genres_pred[int(pred)])"
   ]
  },
  {
   "cell_type": "markdown",
   "metadata": {},
   "source": [
    "## Sklearn"
   ]
  },
  {
   "cell_type": "code",
   "execution_count": 86,
   "metadata": {},
   "outputs": [],
   "source": [
    "X_train, X_test, y_train, y_test = train_test_split(X, y, stratify=y)"
   ]
  },
  {
   "cell_type": "code",
   "execution_count": 88,
   "metadata": {},
   "outputs": [
    {
     "data": {
      "text/plain": [
       "LogisticRegression(C=0.001, class_weight=None, dual=False, fit_intercept=True,\n",
       "                   intercept_scaling=1, l1_ratio=None, max_iter=10000,\n",
       "                   multi_class='multinomial', n_jobs=None, penalty='l2',\n",
       "                   random_state=None, solver='lbfgs', tol=0.0001, verbose=0,\n",
       "                   warm_start=False)"
      ]
     },
     "execution_count": 88,
     "metadata": {},
     "output_type": "execute_result"
    }
   ],
   "source": [
    "from sklearn.linear_model import LogisticRegression\n",
    "logreg2=LogisticRegression(C=0.001,penalty=\"l2\",max_iter=10000,multi_class = \"multinomial\", solver = \"lbfgs\")\n",
    "logreg2.fit(X_train,y_train)"
   ]
  },
  {
   "cell_type": "code",
   "execution_count": 89,
   "metadata": {},
   "outputs": [],
   "source": [
    "preds = logreg2.predict(X_test)\n",
    "# preds"
   ]
  },
  {
   "cell_type": "code",
   "execution_count": 90,
   "metadata": {},
   "outputs": [
    {
     "name": "stdout",
     "output_type": "stream",
     "text": [
      "Numero de test:  250\n",
      "Numero de fallos: 132\n",
      "Numero de aciertos: 118\n",
      "Porcentaje de aciertos:  47.199999999999996\n"
     ]
    }
   ],
   "source": [
    "print(\"Numero de test: \", len(y_test))\n",
    "fallos =  np.where([preds != y_test])[1]\n",
    "print('Numero de fallos:', len(fallos))\n",
    "\n",
    "aciertos = np.where([preds == y_test])[1]\n",
    "print('Numero de aciertos:', len(aciertos))\n",
    "\n",
    "accuracy = 100 * np.mean(preds == y_test)\n",
    "print(\"Porcentaje de aciertos: \", accuracy)"
   ]
  },
  {
   "cell_type": "code",
   "execution_count": 91,
   "metadata": {},
   "outputs": [
    {
     "name": "stdout",
     "output_type": "stream",
     "text": [
      "Muestreo de fallos\n",
      "\n",
      "country :: hiphop\n",
      "pop :: metal\n",
      "disco :: country\n",
      "metal :: country\n",
      "disco :: reggae\n",
      "reggae :: country\n",
      "pop :: classical\n",
      "reggae :: hiphop\n",
      "jazz :: blues\n",
      "hiphop :: jazz\n"
     ]
    }
   ],
   "source": [
    "genres_pred = {}\n",
    "for k,v in genres.items():\n",
    "    genres_pred[v] = k\n",
    "print(\"Muestreo de fallos\\n\")\n",
    "sample = fallos[np.random.choice(fallos.shape[0], 10)]\n",
    "for a in sample:\n",
    "    print(genres_pred[preds[a]],\"::\" ,genres_pred[y_test[a]])"
   ]
  },
  {
   "cell_type": "code",
   "execution_count": 92,
   "metadata": {},
   "outputs": [
    {
     "data": {
      "image/png": "[encoded data removed]",
      "text/plain": [
       "<Figure size 720x720 with 2 Axes>"
      ]
     },
     "metadata": {
      "needs_background": "light"
     },
     "output_type": "display_data"
    }
   ],
   "source": [
    "cm2 = confusion_matrix(y_test, preds)\n",
    "plt.figure(figsize=(10,10))\n",
    "plot_confusion_matrix(cm2, classes, normalize=True)"
   ]
  },
  {
   "cell_type": "markdown",
   "metadata": {},
   "source": [
    "### Canciones fuera del dataset usando sklearn"
   ]
  },
  {
   "cell_type": "code",
   "execution_count": 93,
   "metadata": {},
   "outputs": [
    {
     "data": {
      "text/plain": [
       "['./test_songs/images/abba.png',\n",
       " './test_songs/images/abba_BnW.png',\n",
       " './test_songs/images/abba_no_cut.png',\n",
       " './test_songs/images/desakato.png',\n",
       " './test_songs/images/desakato_BnW.png',\n",
       " './test_songs/images/desakato_no_cut.png',\n",
       " './test_songs/images/elfinde.png',\n",
       " './test_songs/images/elfinde_BnW.png',\n",
       " './test_songs/images/elfinde_no_cut.png',\n",
       " './test_songs/images/harder.png',\n",
       " './test_songs/images/harder_BnW.png',\n",
       " './test_songs/images/iseo.png',\n",
       " './test_songs/images/iseo_BnW.png',\n",
       " './test_songs/images/iseo_no_cut.png',\n",
       " './test_songs/images/marley.png',\n",
       " './test_songs/images/marley_BnW.png',\n",
       " './test_songs/images/marley_no_cut.png',\n",
       " './test_songs/images/metallica.png',\n",
       " './test_songs/images/metallica_BnW.png',\n",
       " './test_songs/images/metallica_no_cut.png',\n",
       " './test_songs/images/paradise.png',\n",
       " './test_songs/images/paradise_BnW.png',\n",
       " './test_songs/images/paradise_no_cut.png',\n",
       " './test_songs/images/requiem.png',\n",
       " './test_songs/images/requiem_BnW.png',\n",
       " './test_songs/images/requiem_no_cut.png',\n",
       " './test_songs/images/sultans.png',\n",
       " './test_songs/images/sultans_BnW.png',\n",
       " './test_songs/images/sultans_no_cut.png',\n",
       " './test_songs/images/wutang.png',\n",
       " './test_songs/images/wutang_BnW.png',\n",
       " './test_songs/images/wutang_no_cut.png']"
      ]
     },
     "execution_count": 93,
     "metadata": {},
     "output_type": "execute_result"
    }
   ],
   "source": [
    "files = os.listdir('./test_songs/images/')\n",
    "# songs = [ img for img in files if img.split('.')[-1] == 'png']\n",
    "songs = ['./test_songs/images/'+img for img in files if img.split('.')[-1] == 'png']\n",
    "songs"
   ]
  },
  {
   "cell_type": "code",
   "execution_count": 94,
   "metadata": {},
   "outputs": [
    {
     "name": "stdout",
     "output_type": "stream",
     "text": [
      "./test_songs/images/abba.png --> rock\n",
      "./test_songs/images/abba_BnW.png --> rock\n",
      "./test_songs/images/abba_no_cut.png --> metal\n",
      "./test_songs/images/desakato.png --> pop\n",
      "./test_songs/images/desakato_BnW.png --> pop\n",
      "./test_songs/images/desakato_no_cut.png --> metal\n",
      "./test_songs/images/elfinde.png --> pop\n",
      "./test_songs/images/elfinde_BnW.png --> pop\n",
      "./test_songs/images/elfinde_no_cut.png --> pop\n",
      "./test_songs/images/harder.png --> hiphop\n",
      "./test_songs/images/harder_BnW.png --> hiphop\n",
      "./test_songs/images/iseo.png --> hiphop\n",
      "./test_songs/images/iseo_BnW.png --> hiphop\n",
      "./test_songs/images/iseo_no_cut.png --> metal\n",
      "./test_songs/images/marley.png --> pop\n",
      "./test_songs/images/marley_BnW.png --> pop\n",
      "./test_songs/images/marley_no_cut.png --> pop\n",
      "./test_songs/images/metallica.png --> metal\n",
      "./test_songs/images/metallica_BnW.png --> metal\n",
      "./test_songs/images/metallica_no_cut.png --> metal\n",
      "./test_songs/images/paradise.png --> hiphop\n",
      "./test_songs/images/paradise_BnW.png --> hiphop\n",
      "./test_songs/images/paradise_no_cut.png --> pop\n",
      "./test_songs/images/requiem.png --> classical\n",
      "./test_songs/images/requiem_BnW.png --> classical\n",
      "./test_songs/images/requiem_no_cut.png --> disco\n",
      "./test_songs/images/sultans.png --> country\n",
      "./test_songs/images/sultans_BnW.png --> country\n",
      "./test_songs/images/sultans_no_cut.png --> metal\n",
      "./test_songs/images/wutang.png --> hiphop\n",
      "./test_songs/images/wutang_BnW.png --> hiphop\n",
      "./test_songs/images/wutang_no_cut.png --> metal\n"
     ]
    }
   ],
   "source": [
    "for song in songs:\n",
    "    img = cv2.imread(song,0)\n",
    "    #img = crop_borders(img)\n",
    "    #img = crop_borders(img,x1=50,x2=252,y1=144,y2=244)\n",
    "    #img = extract_features(song)\n",
    "    mel = img.ravel()\n",
    "    mel = np.hstack([1, mel])\n",
    "    pred = logreg2.predict(mel.reshape(1, -1))\n",
    "    print(song, \"-->\" ,genres_pred[int(pred)])"
   ]
  },
  {
   "cell_type": "markdown",
   "metadata": {},
   "source": [
    "### Usando features del csv"
   ]
  },
  {
   "cell_type": "code",
   "execution_count": 143,
   "metadata": {},
   "outputs": [],
   "source": [
    "df = pd.read_csv('./data/features_30_sec.csv')"
   ]
  },
  {
   "cell_type": "code",
   "execution_count": 144,
   "metadata": {},
   "outputs": [
    {
     "data": {
      "text/html": [
       "<div>\n",
       "<style scoped>\n",
       "    .dataframe tbody tr th:only-of-type {\n",
       "        vertical-align: middle;\n",
       "    }\n",
       "\n",
       "    .dataframe tbody tr th {\n",
       "        vertical-align: top;\n",
       "    }\n",
       "\n",
       "    .dataframe thead th {\n",
       "        text-align: right;\n",
       "    }\n",
       "</style>\n",
       "<table border=\"1\" class=\"dataframe\">\n",
       "  <thead>\n",
       "    <tr style=\"text-align: right;\">\n",
       "      <th></th>\n",
       "      <th>filename</th>\n",
       "      <th>length</th>\n",
       "      <th>chroma_stft_mean</th>\n",
       "      <th>chroma_stft_var</th>\n",
       "      <th>rms_mean</th>\n",
       "      <th>rms_var</th>\n",
       "      <th>spectral_centroid_mean</th>\n",
       "      <th>spectral_centroid_var</th>\n",
       "      <th>spectral_bandwidth_mean</th>\n",
       "      <th>spectral_bandwidth_var</th>\n",
       "      <th>...</th>\n",
       "      <th>mfcc16_var</th>\n",
       "      <th>mfcc17_mean</th>\n",
       "      <th>mfcc17_var</th>\n",
       "      <th>mfcc18_mean</th>\n",
       "      <th>mfcc18_var</th>\n",
       "      <th>mfcc19_mean</th>\n",
       "      <th>mfcc19_var</th>\n",
       "      <th>mfcc20_mean</th>\n",
       "      <th>mfcc20_var</th>\n",
       "      <th>label</th>\n",
       "    </tr>\n",
       "  </thead>\n",
       "  <tbody>\n",
       "    <tr>\n",
       "      <td>554</td>\n",
       "      <td>jazz.00054.wav</td>\n",
       "      <td>662112</td>\n",
       "      <td>0.27827</td>\n",
       "      <td>0.083737</td>\n",
       "      <td>0.162394</td>\n",
       "      <td>0.002747</td>\n",
       "      <td>1670.233117</td>\n",
       "      <td>255560.9662</td>\n",
       "      <td>2109.438546</td>\n",
       "      <td>191916.069574</td>\n",
       "      <td>...</td>\n",
       "      <td>44.333191</td>\n",
       "      <td>-5.273277</td>\n",
       "      <td>56.501907</td>\n",
       "      <td>-1.605975</td>\n",
       "      <td>60.76976</td>\n",
       "      <td>-2.93224</td>\n",
       "      <td>52.397224</td>\n",
       "      <td>-1.418922</td>\n",
       "      <td>100.980064</td>\n",
       "      <td>jazz</td>\n",
       "    </tr>\n",
       "  </tbody>\n",
       "</table>\n",
       "<p>1 rows × 60 columns</p>\n",
       "</div>"
      ],
      "text/plain": [
       "           filename  length  chroma_stft_mean  chroma_stft_var  rms_mean  \\\n",
       "554  jazz.00054.wav  662112           0.27827         0.083737  0.162394   \n",
       "\n",
       "      rms_var  spectral_centroid_mean  spectral_centroid_var  \\\n",
       "554  0.002747             1670.233117            255560.9662   \n",
       "\n",
       "     spectral_bandwidth_mean  spectral_bandwidth_var  ...  mfcc16_var  \\\n",
       "554              2109.438546           191916.069574  ...   44.333191   \n",
       "\n",
       "     mfcc17_mean  mfcc17_var  mfcc18_mean  mfcc18_var  mfcc19_mean  \\\n",
       "554    -5.273277   56.501907    -1.605975    60.76976     -2.93224   \n",
       "\n",
       "     mfcc19_var  mfcc20_mean  mfcc20_var  label  \n",
       "554   52.397224    -1.418922  100.980064   jazz  \n",
       "\n",
       "[1 rows x 60 columns]"
      ]
     },
     "execution_count": 144,
     "metadata": {},
     "output_type": "execute_result"
    }
   ],
   "source": [
    "df.loc[df['filename'] == 'jazz.00054.wav'] #Corrupted"
   ]
  },
  {
   "cell_type": "code",
   "execution_count": 145,
   "metadata": {},
   "outputs": [],
   "source": [
    "df1 = df.iloc[:, 1:-1]\n",
    "features30sec = df1.to_numpy()\n",
    "features30sec = np.delete(features30sec, 554, axis=0)"
   ]
  },
  {
   "cell_type": "code",
   "execution_count": 146,
   "metadata": {},
   "outputs": [
    {
     "name": "stdout",
     "output_type": "stream",
     "text": [
      "(999, 58)\n"
     ]
    }
   ],
   "source": [
    "print(features30sec.shape) #Solo 58 features por cancion -> pocas"
   ]
  },
  {
   "cell_type": "code",
   "execution_count": 147,
   "metadata": {},
   "outputs": [],
   "source": [
    "#como 58 son pocas features necesitamos obtener más (metodo explicado en generador de datos)\n",
    "df_features = pd.read_csv('./data/gtzan_features.csv')"
   ]
  },
  {
   "cell_type": "markdown",
   "metadata": {},
   "source": [
    "#### Usando codigo de practicas"
   ]
  },
  {
   "cell_type": "code",
   "execution_count": 148,
   "metadata": {},
   "outputs": [],
   "source": [
    "X_csv = df_features.drop(['genre'], axis=1).values\n",
    "y_csv = df_features['genre'].values"
   ]
  },
  {
   "cell_type": "code",
   "execution_count": 149,
   "metadata": {},
   "outputs": [
    {
     "data": {
      "text/plain": [
       "(999, 134)"
      ]
     },
     "execution_count": 149,
     "metadata": {},
     "output_type": "execute_result"
    }
   ],
   "source": [
    "num_examples = np.shape(X_csv)[0] #999 imagenes\n",
    "num_features = np.shape(X_csv)[1] #72695 atributos por cada imagen\n",
    "num_etiquetas = 10 # hay 10 generos\n",
    "\n",
    "# añadimos una columna de 1's a la X\n",
    "X_csv = np.hstack([np.ones([num_examples, 1]), X_csv])\n",
    "X_csv.shape\n",
    "# y_csv.shape"
   ]
  },
  {
   "cell_type": "code",
   "execution_count": 150,
   "metadata": {},
   "outputs": [],
   "source": [
    "X_train, X_test, y_train, y_test = train_test_split(X_csv, y_csv, stratify=y)\n",
    "\n",
    "regul_param = 0.1\n",
    "classifiers = oneVsAll(X_train, y_train, num_etiquetas, regul_param)"
   ]
  },
  {
   "cell_type": "code",
   "execution_count": 151,
   "metadata": {},
   "outputs": [],
   "source": [
    "probabilities = sigmoid(np.matmul(X_test, classifiers.T))\n",
    "# Nos quedamos con el indice (la clase) que tenga la probabilidad más alta\n",
    "predictions = np.argmax(probabilities, axis=1)"
   ]
  },
  {
   "cell_type": "code",
   "execution_count": 152,
   "metadata": {},
   "outputs": [
    {
     "name": "stdout",
     "output_type": "stream",
     "text": [
      "Numero de test:  250\n",
      "Numero de fallos: 72\n",
      "Numero de aciertos: 178\n",
      "Porcentaje de aciertos:  71.2\n"
     ]
    }
   ],
   "source": [
    "print(\"Numero de test: \", len(y_test))\n",
    "fallos =  np.where([predictions != y_test])[1]\n",
    "print('Numero de fallos:', len(fallos))\n",
    "\n",
    "aciertos = np.where([predictions == y_test])[1]\n",
    "print('Numero de aciertos:', len(aciertos))\n",
    "\n",
    "accuracy = 100 * np.mean(predictions == y_test)\n",
    "print(\"Porcentaje de aciertos: \", accuracy)"
   ]
  },
  {
   "cell_type": "code",
   "execution_count": 154,
   "metadata": {},
   "outputs": [
    {
     "data": {
      "image/png": "[encoded data removed]",
      "text/plain": [
       "<Figure size 720x720 with 2 Axes>"
      ]
     },
     "metadata": {
      "needs_background": "light"
     },
     "output_type": "display_data"
    }
   ],
   "source": [
    "cm = confusion_matrix(y_test, predictions)\n",
    "plt.figure(figsize=(10,10))\n",
    "plot_confusion_matrix(cm, classes, normalize=True)"
   ]
  },
  {
   "cell_type": "markdown",
   "metadata": {},
   "source": [
    "#### Sklearn"
   ]
  },
  {
   "cell_type": "code",
   "execution_count": 157,
   "metadata": {},
   "outputs": [],
   "source": [
    "X_csv = df_features.drop(['genre'], axis=1).values\n",
    "y_csv = df_features['genre'].values"
   ]
  },
  {
   "cell_type": "code",
   "execution_count": 169,
   "metadata": {},
   "outputs": [],
   "source": [
    "X_train, X_test, y_train, y_test = train_test_split(X_csv, y_csv, stratify=y_csv)"
   ]
  },
  {
   "cell_type": "code",
   "execution_count": 170,
   "metadata": {},
   "outputs": [
    {
     "name": "stdout",
     "output_type": "stream",
     "text": [
      "Wall time: 5.28 s\n"
     ]
    },
    {
     "data": {
      "text/plain": [
       "LogisticRegression(C=0.001, class_weight=None, dual=False, fit_intercept=True,\n",
       "                   intercept_scaling=1, l1_ratio=None, max_iter=10000,\n",
       "                   multi_class='multinomial', n_jobs=None, penalty='l2',\n",
       "                   random_state=None, solver='lbfgs', tol=0.0001, verbose=0,\n",
       "                   warm_start=False)"
      ]
     },
     "execution_count": 170,
     "metadata": {},
     "output_type": "execute_result"
    }
   ],
   "source": [
    "%%time\n",
    "from sklearn.linear_model import LogisticRegression\n",
    "logreg2=LogisticRegression(C=.001,penalty=\"l2\",max_iter=10000,multi_class = \"multinomial\", solver = \"lbfgs\")\n",
    "logreg2.fit(X_train,y_train)"
   ]
  },
  {
   "cell_type": "code",
   "execution_count": 171,
   "metadata": {},
   "outputs": [],
   "source": [
    "preds = logreg2.predict(X_test)"
   ]
  },
  {
   "cell_type": "code",
   "execution_count": 172,
   "metadata": {},
   "outputs": [
    {
     "name": "stdout",
     "output_type": "stream",
     "text": [
      "Numero de test:  250\n",
      "Numero de fallos: 71\n",
      "Numero de aciertos: 179\n",
      "Porcentaje de aciertos:  71.6\n"
     ]
    }
   ],
   "source": [
    "print(\"Numero de test: \", len(y_test))\n",
    "fallos =  np.where([preds != y_test])[1]\n",
    "print('Numero de fallos:', len(fallos))\n",
    "\n",
    "aciertos = np.where([preds == y_test])[1]\n",
    "print('Numero de aciertos:', len(aciertos))\n",
    "\n",
    "accuracy = 100 * np.mean(preds == y_test)\n",
    "print(\"Porcentaje de aciertos: \", accuracy)"
   ]
  },
  {
   "cell_type": "code",
   "execution_count": 173,
   "metadata": {},
   "outputs": [
    {
     "name": "stdout",
     "output_type": "stream",
     "text": [
      "Muestreo de fallos\n",
      "\n",
      "rock :: disco\n",
      "blues :: country\n",
      "disco :: rock\n",
      "hiphop :: disco\n",
      "classical :: jazz\n",
      "hiphop :: rock\n",
      "rock :: country\n",
      "rock :: disco\n",
      "classical :: jazz\n",
      "classical :: hiphop\n"
     ]
    }
   ],
   "source": [
    "genres_pred = {}\n",
    "for k,v in genres.items():\n",
    "    genres_pred[v] = k\n",
    "print(\"Muestreo de fallos\\n\")\n",
    "sample = fallos[np.random.choice(fallos.shape[0], 10)]\n",
    "for a in sample:\n",
    "    print(genres_pred[preds[a]],\"::\" ,genres_pred[y_test[a]])"
   ]
  },
  {
   "cell_type": "code",
   "execution_count": 174,
   "metadata": {},
   "outputs": [
    {
     "data": {
      "image/png": "[encoded data removed]",
      "text/plain": [
       "<Figure size 720x720 with 2 Axes>"
      ]
     },
     "metadata": {
      "needs_background": "light"
     },
     "output_type": "display_data"
    }
   ],
   "source": [
    "cm2 = confusion_matrix(y_test, preds)\n",
    "plt.figure(figsize=(10,10))\n",
    "plot_confusion_matrix(cm2, classes, normalize=True)"
   ]
  },
  {
   "cell_type": "markdown",
   "metadata": {},
   "source": [
    "#### Canciones fuera del dataset"
   ]
  },
  {
   "cell_type": "code",
   "execution_count": 175,
   "metadata": {},
   "outputs": [],
   "source": [
    "#Funcion para obtener 133 features de una signal de audio\n",
    "def get_features(y, sr, n_fft = 1024, hop_length = 512):\n",
    "    # Features to concatenate in the final dictionary\n",
    "    features = {'centroid': None, 'roloff': None, 'flux': None, 'rmse': None,\n",
    "                'zcr': None, 'contrast': None, 'bandwidth': None, 'flatness': None}\n",
    "    \n",
    "    # Count silence\n",
    "    if 0 < len(y):\n",
    "        y_sound, _ = librosa.effects.trim(y, frame_length=n_fft, hop_length=hop_length)\n",
    "    features['sample_silence'] = len(y) - len(y_sound)\n",
    "\n",
    "    # Using librosa to calculate the features\n",
    "    features['centroid'] = librosa.feature.spectral_centroid(y, sr=sr, n_fft=n_fft, hop_length=hop_length).ravel()\n",
    "    features['roloff'] = librosa.feature.spectral_rolloff(y, sr=sr, n_fft=n_fft, hop_length=hop_length).ravel()\n",
    "    features['zcr'] = librosa.feature.zero_crossing_rate(y, frame_length=n_fft, hop_length=hop_length).ravel()\n",
    "    features['rmse'] = librosa.feature.rms(y, frame_length=n_fft, hop_length=hop_length).ravel()\n",
    "    features['flux'] = librosa.onset.onset_strength(y=y, sr=sr).ravel()\n",
    "    features['contrast'] = librosa.feature.spectral_contrast(y, sr=sr).ravel()\n",
    "    features['bandwidth'] = librosa.feature.spectral_bandwidth(y, sr=sr, n_fft=n_fft, hop_length=hop_length).ravel()\n",
    "    features['flatness'] = librosa.feature.spectral_flatness(y, n_fft=n_fft, hop_length=hop_length).ravel()\n",
    "    \n",
    "    # MFCC treatment\n",
    "    mfcc = librosa.feature.mfcc(y, n_fft = n_fft, hop_length = hop_length, n_mfcc=13)\n",
    "    for idx, v_mfcc in enumerate(mfcc):\n",
    "        features['mfcc_{}'.format(idx)] = v_mfcc.ravel()\n",
    "        \n",
    "    # Get statistics from the vectors\n",
    "    def get_moments(descriptors):\n",
    "        result = {}\n",
    "        for k, v in descriptors.items():\n",
    "            result['{}_max'.format(k)] = np.max(v)\n",
    "            result['{}_min'.format(k)] = np.min(v)\n",
    "            result['{}_mean'.format(k)] = np.mean(v)\n",
    "            result['{}_std'.format(k)] = np.std(v)\n",
    "            result['{}_kurtosis'.format(k)] = kurtosis(v)\n",
    "            result['{}_skew'.format(k)] = skew(v)\n",
    "        return result\n",
    "    \n",
    "    dict_agg_features = get_moments(features)\n",
    "    dict_agg_features['tempo'] = librosa.beat.tempo(y, sr=sr)[0]\n",
    "    \n",
    "    return dict_agg_features\n",
    "\n",
    "def read_process_songs(src_dir, debug = True):    \n",
    "    # Empty array of dicts with the processed features from all files\n",
    "    arr_features = []\n",
    "\n",
    "    # Read files from the folders\n",
    "    for x,_ in genres.items():\n",
    "        folder = src_dir + x\n",
    "        \n",
    "        for root, subdirs, files in os.walk(folder):\n",
    "            for file in files:\n",
    "                # Read the audio file\n",
    "                print(file)\n",
    "                if(file != \"jazz.00054.wav\"): #archivo corrupto\n",
    "                    file_name = folder + \"/\" + file\n",
    "                    signal, sr = librosa.load(file_name)\n",
    "\n",
    "                    # Debug process\n",
    "                    if debug:\n",
    "                        print(\"Reading file: {}\".format(file_name))\n",
    "\n",
    "                    # Append the result to the data structure\n",
    "                    features = get_features(signal, sr)\n",
    "                    features['genre'] = genres[x]\n",
    "                    arr_features.append(features)\n",
    "    return arr_features"
   ]
  },
  {
   "cell_type": "code",
   "execution_count": 176,
   "metadata": {},
   "outputs": [
    {
     "name": "stderr",
     "output_type": "stream",
     "text": [
      "C:\\Users\\Alberto\\Anaconda3\\lib\\site-packages\\librosa\\core\\audio.py:161: UserWarning: PySoundFile failed. Trying audioread instead.\n",
      "  warnings.warn('PySoundFile failed. Trying audioread instead.')\n"
     ]
    },
    {
     "name": "stdout",
     "output_type": "stream",
     "text": [
      "Reading file: ./test_songs/abba.mp3\n",
      "Reading file: ./test_songs/desakato.mp3\n",
      "Reading file: ./test_songs/elfinde.mp3\n",
      "Reading file: ./test_songs/harder.mp3\n",
      "Reading file: ./test_songs/iseo.mp3\n",
      "Reading file: ./test_songs/marley.mp3\n",
      "Reading file: ./test_songs/metallica.mp3\n",
      "Reading file: ./test_songs/paradise.mp3\n",
      "Reading file: ./test_songs/requiem.mp3\n",
      "Reading file: ./test_songs/sultans.mp3\n",
      "Reading file: ./test_songs/wutang.mp3\n"
     ]
    }
   ],
   "source": [
    "arr_features = []\n",
    "\n",
    "# Read files from the folders\n",
    "folder = './test_songs/'\n",
    "files = os.listdir(folder)\n",
    "files = ['./test_songs/'+img for img in files if img.split('.')[-1] == 'mp3']\n",
    "for file in files:\n",
    "    # Read the audio file\n",
    "    signal, sr = librosa.load(file, duration=30.0)\n",
    "    print(\"Reading file: {}\".format(file))\n",
    "    # Append the result to the data structure\n",
    "    features = get_features(signal, sr)\n",
    "    arr_features.append(features)\n",
    "\n",
    "gtzan_dir = './test_songs'\n",
    "df_features = pd.DataFrame(arr_features)"
   ]
  },
  {
   "cell_type": "code",
   "execution_count": 177,
   "metadata": {},
   "outputs": [],
   "source": [
    "X_pruebas = df_features\n",
    "preds = logreg2.predict(X_pruebas)"
   ]
  },
  {
   "cell_type": "code",
   "execution_count": 178,
   "metadata": {},
   "outputs": [
    {
     "name": "stdout",
     "output_type": "stream",
     "text": [
      "abba --> classical \n",
      "\n",
      "abba_BnW --> classical \n",
      "\n",
      "abba_no_cut --> classical \n",
      "\n",
      "desakato --> classical \n",
      "\n",
      "desakato_BnW --> hiphop \n",
      "\n",
      "desakato_no_cut --> classical \n",
      "\n",
      "elfinde --> metal \n",
      "\n",
      "elfinde_BnW --> classical \n",
      "\n",
      "elfinde_no_cut --> classical \n",
      "\n",
      "harder --> hiphop \n",
      "\n",
      "harder_BnW --> hiphop \n",
      "\n"
     ]
    }
   ],
   "source": [
    "i = 0\n",
    "for pred in preds:\n",
    "    print(songs[i][20:-4],\"-->\",genres_pred[int(pred)],'\\n')\n",
    "    i += 1"
   ]
  },
  {
   "cell_type": "code",
   "execution_count": 179,
   "metadata": {},
   "outputs": [],
   "source": [
    "#hay sobreajuste a classical\n"
   ]
  }
 ],
 "metadata": {
  "kernelspec": {
   "display_name": "Python 3",
   "language": "python",
   "name": "python3"
  },
  "language_info": {
   "codemirror_mode": {
    "name": "ipython",
    "version": 3
   },
   "file_extension": ".py",
   "mimetype": "text/x-python",
   "name": "python",
   "nbconvert_exporter": "python",
   "pygments_lexer": "ipython3",
   "version": "3.7.4"
  }
 },
 "nbformat": 4,
 "nbformat_minor": 4
}
