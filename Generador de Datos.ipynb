{
 "cells": [
  {
   "cell_type": "code",
   "execution_count": 3,
   "metadata": {},
   "outputs": [],
   "source": [
    "#ffmpeg installed?\n",
    "#install librosa on anaconda\n",
    "import librosa                    \n",
    "import librosa.display\n",
    "import matplotlib.pyplot as plt\n",
    "import numpy as np\n",
    "import matplotlib.image as mpimg\n",
    "import os\n",
    "import matplotlib.pyplot as plt\n",
    "import pandas as pd\n",
    "import cv2"
   ]
  },
  {
   "cell_type": "markdown",
   "metadata": {},
   "source": [
    "#### Generador de imagenes"
   ]
  },
  {
   "cell_type": "code",
   "execution_count": 4,
   "metadata": {},
   "outputs": [],
   "source": [
    "def crop_borders(img,x1=35,x2=252,y1=54,y2=389):\n",
    "    '''Corta los bordes blancos creados por matplotlib'''\n",
    "    cropped = img[x1:x2,y1:y2]\n",
    "    return cropped"
   ]
  },
  {
   "cell_type": "code",
   "execution_count": 5,
   "metadata": {},
   "outputs": [
    {
     "name": "stdout",
     "output_type": "stream",
     "text": [
      "['abba.mp3', 'desakato.mp3', 'elfinde.mp3', 'harder.mp3', 'iseo.mp3', 'marley.mp3', 'metallica.mp3', 'paradise.mp3', 'requiem.mp3', 'sultans.mp3', 'wutang.mp3']\n",
      "./test_songs/abba.mp3\n",
      "./abba_BnW\n"
     ]
    },
    {
     "name": "stderr",
     "output_type": "stream",
     "text": [
      "C:\\Users\\Alberto\\Anaconda3\\lib\\site-packages\\librosa\\core\\audio.py:161: UserWarning: PySoundFile failed. Trying audioread instead.\n",
      "  warnings.warn('PySoundFile failed. Trying audioread instead.')\n"
     ]
    },
    {
     "name": "stdout",
     "output_type": "stream",
     "text": [
      "./test_songs/desakato.mp3\n",
      "./desakato_BnW\n",
      "./test_songs/elfinde.mp3\n",
      "./elfinde_BnW\n",
      "./test_songs/harder.mp3\n",
      "./harder_BnW\n",
      "./test_songs/iseo.mp3\n",
      "./iseo_BnW\n",
      "./test_songs/marley.mp3\n",
      "./marley_BnW\n",
      "./test_songs/metallica.mp3\n",
      "./metallica_BnW\n",
      "./test_songs/paradise.mp3\n",
      "./paradise_BnW\n",
      "./test_songs/requiem.mp3\n",
      "./requiem_BnW\n",
      "./test_songs/sultans.mp3\n",
      "./sultans_BnW\n",
      "./test_songs/wutang.mp3\n",
      "./wutang_BnW\n"
     ]
    }
   ],
   "source": [
    "DIR = './test_songs/'\n",
    "\n",
    "def save_img(file):\n",
    "    image_name = './' + (file.split('/')[2][:-4]) + \"_BnW\"\n",
    "    print(image_name)\n",
    "    n_mels = 128\n",
    "    hop_length = 512\n",
    "    n_fft = 2048\n",
    "\n",
    "    file_location = file\n",
    "    y, sr = librosa.load(file_location, duration=30.0)\n",
    "    song,_ = librosa.effects.trim(y)\n",
    "\n",
    "    S = librosa.feature.melspectrogram(song, sr=sr, n_fft=n_fft, hop_length=hop_length, n_mels=n_mels)\n",
    "    S_DB = librosa.power_to_db(S, ref=np.max)\n",
    "    S_DB[S_DB < -40] = -40\n",
    "    plt.figure(figsize=(432/80, 288/80), dpi=80)\n",
    "    disp = librosa.display.specshow(S_DB, sr=sr, hop_length=hop_length, x_axis='time', y_axis='mel');\n",
    "    plt.axis('off')\n",
    "    plt.savefig('./test_songs/images/'+image_name)\n",
    "    plt.close()\n",
    "\n",
    "    finale_name = './test_songs/images/'+image_name+'.png'\n",
    "    img = cv2.imread(finale_name,0)\n",
    "    cv2.imwrite(finale_name, crop_borders(img))\n",
    "    \n",
    "files = os.listdir('./test_songs')\n",
    "songs = [ img for img in files if img.split('.')[-1] == 'mp3']\n",
    "print(songs)\n",
    "\n",
    "for song in songs:\n",
    "    print(DIR + song)\n",
    "    save_img(DIR + song)"
   ]
  },
  {
   "cell_type": "code",
   "execution_count": 6,
   "metadata": {},
   "outputs": [],
   "source": [
    "def save_mel(file, directory):\n",
    "    '''Guarda la imagen del espectograma de mel'''\n",
    "    n_mels = 128\n",
    "    hop_length = 512\n",
    "    n_fft = 2048\n",
    "\n",
    "    file_location = file\n",
    "    y, sr = librosa.load(file_location, duration=30.0)\n",
    "    song,_ = librosa.effects.trim(y)\n",
    "\n",
    "    S = librosa.feature.melspectrogram(song, sr=sr, n_fft=n_fft, hop_length=hop_length, n_mels=n_mels)\n",
    "    S_DB = librosa.power_to_db(S, ref=np.max)\n",
    "    S_DB[S_DB < -40] = -40\n",
    "    plt.figure(figsize=(432/80, 288/80), dpi=80)\n",
    "    disp = librosa.display.specshow(S_DB, sr=sr, hop_length=hop_length, x_axis='time', y_axis='mel');\n",
    "    plt.axis('off')\n",
    "    plt.savefig(directory)\n",
    "    plt.close()"
   ]
  },
  {
   "cell_type": "code",
   "execution_count": 7,
   "metadata": {},
   "outputs": [],
   "source": [
    "def cut_n_save(file, flag = 1):\n",
    "    '''Guarda y vuelve a guardar en su ubicacion'''\n",
    "    img = cv2.imread(file,flag)\n",
    "    cv2.imwrite(file, crop_borders(img))"
   ]
  },
  {
   "cell_type": "code",
   "execution_count": 8,
   "metadata": {},
   "outputs": [],
   "source": [
    "def ensure_dir(file_path):\n",
    "    '''Asegura que exista el path, si no lo crea'''\n",
    "    directory = os.path.dirname(file_path)\n",
    "    if not os.path.exists(directory):\n",
    "        os.makedirs(directory)"
   ]
  },
  {
   "cell_type": "code",
   "execution_count": 10,
   "metadata": {},
   "outputs": [],
   "source": [
    "IMG = './data/images_original'\n",
    "MUSIC = './data/genres_original'\n",
    "DIR = './dataset/'\n",
    "\n",
    "for root, dirs, files in os.walk(MUSIC):\n",
    "    for name in files:\n",
    "        filename = os.path.join(root, name)\n",
    "        if(filename != \"./data/genres_original\\jazz\\jazz.00054.wav\"): #corrupted\n",
    "            genre = filename.split('\\\\')[-2]\n",
    "            fn = filename.split('\\\\')[-1].split('.')\n",
    "\n",
    "            target = fn[0] + fn[1] + '.png'\n",
    "\n",
    "            output = DIR + genre + '/' + target\n",
    "\n",
    "            ensure_dir(output)\n",
    "            save_mel(filename, output)\n",
    "            cut_n_save(output)"
   ]
  },
  {
   "cell_type": "markdown",
   "metadata": {},
   "source": [
    "#### Generador de más características de las canciones"
   ]
  },
  {
   "cell_type": "code",
   "execution_count": 10,
   "metadata": {},
   "outputs": [],
   "source": [
    "#Funciones para obtener las caracteristicas de las canciones del dataset\n",
    "#Obtenemos 133 caracteristicas, mas de el doble que de las que teniamos antes\n",
    "\n",
    "def get_features(y, sr, n_fft = 1024, hop_length = 512):\n",
    "    # Features to concatenate in the final dictionary\n",
    "    features = {'centroid': None, 'roloff': None, 'flux': None, 'rmse': None,\n",
    "                'zcr': None, 'contrast': None, 'bandwidth': None, 'flatness': None}\n",
    "    \n",
    "    # Count silence\n",
    "    if 0 < len(y):\n",
    "        y_sound, _ = librosa.effects.trim(y, frame_length=n_fft, hop_length=hop_length)\n",
    "    features['sample_silence'] = len(y) - len(y_sound)\n",
    "\n",
    "    # Using librosa to calculate the features\n",
    "    features['centroid'] = librosa.feature.spectral_centroid(y, sr=sr, n_fft=n_fft, hop_length=hop_length).ravel()\n",
    "    features['roloff'] = librosa.feature.spectral_rolloff(y, sr=sr, n_fft=n_fft, hop_length=hop_length).ravel()\n",
    "    features['zcr'] = librosa.feature.zero_crossing_rate(y, frame_length=n_fft, hop_length=hop_length).ravel()\n",
    "    features['rmse'] = librosa.feature.rms(y, frame_length=n_fft, hop_length=hop_length).ravel()\n",
    "    features['flux'] = librosa.onset.onset_strength(y=y, sr=sr).ravel()\n",
    "    features['contrast'] = librosa.feature.spectral_contrast(y, sr=sr).ravel()\n",
    "    features['bandwidth'] = librosa.feature.spectral_bandwidth(y, sr=sr, n_fft=n_fft, hop_length=hop_length).ravel()\n",
    "    features['flatness'] = librosa.feature.spectral_flatness(y, n_fft=n_fft, hop_length=hop_length).ravel()\n",
    "    \n",
    "    # MFCC treatment\n",
    "    mfcc = librosa.feature.mfcc(y, n_fft = n_fft, hop_length = hop_length, n_mfcc=13)\n",
    "    for idx, v_mfcc in enumerate(mfcc):\n",
    "        features['mfcc_{}'.format(idx)] = v_mfcc.ravel()\n",
    "        \n",
    "    # Get statistics from the vectors\n",
    "    def get_moments(descriptors):\n",
    "        result = {}\n",
    "        for k, v in descriptors.items():\n",
    "            result['{}_max'.format(k)] = np.max(v)\n",
    "            result['{}_min'.format(k)] = np.min(v)\n",
    "            result['{}_mean'.format(k)] = np.mean(v)\n",
    "            result['{}_std'.format(k)] = np.std(v)\n",
    "            result['{}_kurtosis'.format(k)] = kurtosis(v)\n",
    "            result['{}_skew'.format(k)] = skew(v)\n",
    "        return result\n",
    "    \n",
    "    dict_agg_features = get_moments(features)\n",
    "    dict_agg_features['tempo'] = librosa.beat.tempo(y, sr=sr)[0]\n",
    "    \n",
    "    return dict_agg_features\n",
    "\n",
    "def read_process_songs(src_dir, debug = True):    \n",
    "    # Empty array of dicts with the processed features from all files\n",
    "    arr_features = []\n",
    "\n",
    "    # Read files from the folders\n",
    "    for x,_ in genres.items():\n",
    "        folder = src_dir + x\n",
    "        \n",
    "        for root, subdirs, files in os.walk(folder):\n",
    "            for file in files:\n",
    "                # Read the audio file\n",
    "                print(file)\n",
    "                if(file != \"jazz.00054.wav\"): #archivo corrupto\n",
    "                    file_name = folder + \"/\" + file\n",
    "                    signal, sr = librosa.load(file_name)\n",
    "\n",
    "                    # Debug process\n",
    "                    if debug:\n",
    "                        print(\"Reading file: {}\".format(file_name))\n",
    "\n",
    "                    # Append the result to the data structure\n",
    "                    features = get_features(signal, sr)\n",
    "                    features['genre'] = genres[x]\n",
    "                    arr_features.append(features)\n",
    "    return arr_features"
   ]
  },
  {
   "cell_type": "code",
   "execution_count": 10,
   "metadata": {},
   "outputs": [],
   "source": [
    "#Devuelve un dataframe con las características extendidas de las canciones\n",
    "#Debido a que tarda en ejecutar ~10 min cada vez, hemos exportado a un csv las caracteristicas extra para acceder más rapido\n",
    "# %%time\n",
    "# # Get list of dicts with features and convert to dataframe\n",
    "# gtzan_dir = './data/genres_original/'\n",
    "# features = read_process_songs(gtzan_dir, debug=False) #10min aprox to execute\n",
    "# df_features = pd.DataFrame(features)"
   ]
  }
 ],
 "metadata": {
  "kernelspec": {
   "display_name": "Python 3",
   "language": "python",
   "name": "python3"
  },
  "language_info": {
   "codemirror_mode": {
    "name": "ipython",
    "version": 3
   },
   "file_extension": ".py",
   "mimetype": "text/x-python",
   "name": "python",
   "nbconvert_exporter": "python",
   "pygments_lexer": "ipython3",
   "version": "3.7.4"
  }
 },
 "nbformat": 4,
 "nbformat_minor": 4
}
