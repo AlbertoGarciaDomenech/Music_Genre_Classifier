{
 "cells": [
  {
   "cell_type": "code",
   "execution_count": 3,
   "metadata": {},
   "outputs": [],
   "source": [
    "#ffmpeg installed??\n",
    "#install librosa on anaconda\n",
    "import librosa                    \n",
    "import librosa.display\n",
    "import matplotlib.pyplot as plt\n",
    "import numpy as np\n",
    "import matplotlib.image as mpimg\n",
    "import os\n",
    "import matplotlib.pyplot as plt\n",
    "import pandas as pd\n",
    "import cv2"
   ]
  },
  {
   "cell_type": "code",
   "execution_count": 4,
   "metadata": {},
   "outputs": [],
   "source": [
    "def crop_borders(img,x1=35,x2=252,y1=54,y2=389):\n",
    "    '''Corta los bordes blancos creados por matplotlib'''\n",
    "    cropped = img[x1:x2,y1:y2]\n",
    "    return cropped"
   ]
  },
  {
   "cell_type": "code",
   "execution_count": 5,
   "metadata": {},
   "outputs": [],
   "source": [
    "def save_mel(file, directory):\n",
    "    '''Guarda la imagen del espectograma de mel'''\n",
    "    n_mels = 128\n",
    "    hop_length = 512\n",
    "    n_fft = 2048\n",
    "\n",
    "    file_location = file\n",
    "    y, sr = librosa.load(file_location, duration=30.0)\n",
    "    song,_ = librosa.effects.trim(y)\n",
    "\n",
    "    S = librosa.feature.melspectrogram(song, sr=sr, n_fft=n_fft, hop_length=hop_length, n_mels=n_mels)\n",
    "    S_DB = librosa.power_to_db(S, ref=np.max)\n",
    "    S_DB[S_DB < -40] = -40\n",
    "    plt.figure(figsize=(432/80, 288/80), dpi=80)\n",
    "    disp = librosa.display.specshow(S_DB, sr=sr, hop_length=hop_length, x_axis='time', y_axis='mel');\n",
    "    plt.axis('off')\n",
    "    plt.savefig(directory)\n",
    "    plt.close()"
   ]
  },
  {
   "cell_type": "code",
   "execution_count": 7,
   "metadata": {},
   "outputs": [],
   "source": [
    "def cut_n_save(file, flag = 0):\n",
    "    '''Guarda y vuelve a guardar en su ubicacion'''\n",
    "    img = cv2.imread(file,flag)\n",
    "    cv2.imwrite(file, crop_borders(img))"
   ]
  },
  {
   "cell_type": "code",
   "execution_count": 6,
   "metadata": {},
   "outputs": [],
   "source": [
    "def ensure_dir(file_path):\n",
    "    '''Asegura que exista el path, si no lo crea'''\n",
    "    directory = os.path.dirname(file_path)\n",
    "    if not os.path.exists(directory):\n",
    "        os.makedirs(directory)"
   ]
  },
  {
   "cell_type": "code",
   "execution_count": 6,
   "metadata": {},
   "outputs": [],
   "source": [
    "IMG = './data/images_original'\n",
    "MUSIC = './data/genres_original'\n",
    "DIR = './dataset/'\n",
    "\n",
    "for root, dirs, files in os.walk(MUSIC):\n",
    "    for name in files:\n",
    "        filename = os.path.join(root, name)\n",
    "        if(filename != \"./data/genres_original\\jazz\\jazz.00054.wav\"): #corrupted\n",
    "            genre = filename.split('\\\\')[-2]\n",
    "            fn = filename.split('\\\\')[-1].split('.')\n",
    "\n",
    "            target = fn[0] + fn[1] + '.png'\n",
    "\n",
    "            output = DIR + genre + '/' + target\n",
    "\n",
    "            ensure_dir(output)\n",
    "            save_mel(filename, output)\n",
    "            cut_n_save(output)"
   ]
  }
 ],
 "metadata": {
  "kernelspec": {
   "display_name": "Python 3",
   "language": "python",
   "name": "python3"
  },
  "language_info": {
   "codemirror_mode": {
    "name": "ipython",
    "version": 3
   },
   "file_extension": ".py",
   "mimetype": "text/x-python",
   "name": "python",
   "nbconvert_exporter": "python",
   "pygments_lexer": "ipython3",
   "version": "3.7.4"
  }
 },
 "nbformat": 4,
 "nbformat_minor": 2
}
